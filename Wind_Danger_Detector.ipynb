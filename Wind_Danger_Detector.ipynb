{
  "nbformat": 4,
  "nbformat_minor": 0,
  "metadata": {
    "colab": {
      "name": "Wind_Danger_Detector.ipynb",
      "provenance": []
    },
    "kernelspec": {
      "name": "python3",
      "display_name": "Python 3"
    },
    "language_info": {
      "name": "python"
    }
  },
  "cells": [
    {
      "cell_type": "markdown",
      "source": [
        "# Wind danger detector\n",
        "## Author: Marc Cervera Rosell"
      ],
      "metadata": {
        "id": "loFAfZClb5Mz"
      }
    },
    {
      "cell_type": "code",
      "source": [
        "import tensorflow as tf\n",
        "import numpy as np"
      ],
      "metadata": {
        "id": "V-HGz5ZtiwYc"
      },
      "execution_count": 102,
      "outputs": []
    },
    {
      "cell_type": "code",
      "source": [
        "def read_data_file(file, data_separation='\\n'):\n",
        "  data = []\n",
        "  with open(file, 'r') as f:\n",
        "    for line in f:\n",
        "      value = line.split(data_separation)\n",
        "      data.append(value[0]) # Ignoring the newline character\n",
        "  f.close()\n",
        "  return data"
      ],
      "metadata": {
        "id": "OAaJdxJXcVnp"
      },
      "execution_count": 103,
      "outputs": []
    },
    {
      "cell_type": "markdown",
      "source": [
        "Checking the correctness of the read file method"
      ],
      "metadata": {
        "id": "tETrV-qehw-G"
      }
    },
    {
      "cell_type": "code",
      "source": [
        "inputs = read_data_file('inputs.txt') # Reading the inputs file\n",
        "for i in range(len(inputs)):\n",
        "  inputs[i] = float(inputs[i])\n",
        "outputs = read_data_file('outputs.txt') # Reading the outputs file\n",
        "for i in range(len(outputs)):\n",
        "  outputs[i] = int(outputs[i])\n",
        "print(\"Inputs -> \" + \"\\n\")\n",
        "print(inputs)\n",
        "print(\"\\n\")\n",
        "print(\"Outputs -> \" + \"\\n\")\n",
        "print(outputs)\n",
        "print(\"\\n\")"
      ],
      "metadata": {
        "colab": {
          "base_uri": "https://localhost:8080/"
        },
        "id": "2da4GUXFdqxH",
        "outputId": "7433ad1a-0ed5-4ce9-e244-7f83533eae04"
      },
      "execution_count": 104,
      "outputs": [
        {
          "output_type": "stream",
          "name": "stdout",
          "text": [
            "Inputs -> \n",
            "\n",
            "[0.4260148509564276, 0.17369735034880784, 0.03885423219761924, 0.48096122515990747, 0.288959645965663, 0.4449675909554571, 0.10097462713976207, 0.04115143436327545, 0.46646480616807834, 0.42539938988350395, 4.262552633264531, 2.6809044832551483, 1.071955224126705, 1.7521489456306605, 2.3150404756008482, 3.6513311135719193, 1.6672562206182033, 2.3398761250027897, 0.7423639646262162, 2.320081020225148, 8.678800490861352, 7.749195117906291, 5.867720333533769, 6.174372910661325, 6.386792067150265, 6.388099114311323, 7.706050648598232, 9.16599813301638, 9.9554901425359, 6.114292911871255, 18.932664272711854, 13.099350347455626, 13.71108756026051, 12.407932020748028, 18.020799984399, 18.387573748975306, 14.694278601117626, 16.825323131022643, 16.6357861670631, 14.80499047645251, 24.42485100449396, 25.064048398132762, 30.22405555350247, 25.682826167665887, 31.412621586447123, 33.8917666945303, 22.60131946801181, 33.163637946182206, 34.999304238707595, 30.111247672185023, 168.15151936703975, 131.97250392093994, 121.01591906663519, 80.68400487528335, 106.61345823060486, 74.57627067437095, 113.73661240430386, 92.46136102189948, 137.93124572367893, 105.60601450222761]\n",
            "\n",
            "\n",
            "Outputs -> \n",
            "\n",
            "[0, 0, 0, 0, 0, 0, 0, 0, 0, 0, 1, 1, 1, 1, 1, 1, 1, 1, 1, 1, 2, 2, 2, 2, 2, 2, 2, 2, 2, 2, 3, 3, 3, 3, 3, 3, 3, 3, 3, 3, 4, 4, 4, 4, 4, 4, 4, 4, 4, 4, 5, 5, 5, 5, 5, 5, 5, 5, 5, 5]\n",
            "\n",
            "\n"
          ]
        }
      ]
    },
    {
      "cell_type": "code",
      "source": [
        "values = np.array(inputs, dtype=float) # Inputs of the neuronal network\n",
        "risk = np.array(outputs, dtype=int) # Outputs of the neuronal network"
      ],
      "metadata": {
        "id": "dPIVBG1lir78"
      },
      "execution_count": 105,
      "outputs": []
    },
    {
      "cell_type": "code",
      "source": [
        "hidden1 = tf.keras.layers.Dense(units=10, input_shape=[1])\n",
        "hidden2 = tf.keras.layers.Dense(units=10)\n",
        "output_layer = tf.keras.layers.Dense(units=1)\n",
        "model = tf.keras.Sequential([hidden1, hidden2, output_layer])"
      ],
      "metadata": {
        "id": "46zHRj41jJm_"
      },
      "execution_count": 106,
      "outputs": []
    },
    {
      "cell_type": "code",
      "source": [
        "model.compile(\n",
        "    optimizer = tf.keras.optimizers.Adam(0.1),\n",
        "    loss = 'mean_squared_error'\n",
        ")"
      ],
      "metadata": {
        "id": "c5oAHzprknbh"
      },
      "execution_count": 107,
      "outputs": []
    },
    {
      "cell_type": "code",
      "source": [
        "print(\"Starting training...\\n\")\n",
        "historyal = model.fit(inputs, outputs, epochs=1000, verbose=False)\n",
        "print(\"Model trained!\\n\")"
      ],
      "metadata": {
        "colab": {
          "base_uri": "https://localhost:8080/"
        },
        "id": "lExVp0IrlE1-",
        "outputId": "ca79a3fb-d392-47c5-87de-53b4bf29594c"
      },
      "execution_count": 108,
      "outputs": [
        {
          "output_type": "stream",
          "name": "stdout",
          "text": [
            "Starting training...\n",
            "\n",
            "Model trained!\n",
            "\n"
          ]
        }
      ]
    },
    {
      "cell_type": "code",
      "source": [
        "import matplotlib.pyplot as plt\n",
        "plt.xlabel(\"# Epoch\")\n",
        "plt.ylabel(\"Loss magnitude\")\n",
        "plt.plot(historyal.history[\"loss\"])"
      ],
      "metadata": {
        "colab": {
          "base_uri": "https://localhost:8080/",
          "height": 296
        },
        "id": "Xrs1NLZnqifj",
        "outputId": "426a5268-7e4c-418d-f258-5e97e6212004"
      },
      "execution_count": 109,
      "outputs": [
        {
          "output_type": "execute_result",
          "data": {
            "text/plain": [
              "[<matplotlib.lines.Line2D at 0x7f3024b7e850>]"
            ]
          },
          "metadata": {},
          "execution_count": 109
        },
        {
          "output_type": "display_data",
          "data": {
            "image/png": "[encoded data removed]",
            "text/plain": [
              "<Figure size 432x288 with 1 Axes>"
            ]
          },
          "metadata": {
            "needs_background": "light"
          }
        }
      ]
    },
    {
      "cell_type": "code",
      "source": [
        "import sys\n",
        "print(\"Let's make a prediction\\n\")\n",
        "wind_gust = 3.0\n",
        "result = model.predict([wind_gust])\n",
        "print(f\"For a wind gust of {wind_gust} m/s:\")\n",
        "if result == 0 or result <= 0.5:\n",
        "  print(\"No risk\\n\")\n",
        "elif result > 0.5 or result <= 5:\n",
        "  print((\"Low risk\\n\"))\n",
        "elif result > 5 or result <= 10:\n",
        "  print(\"Moderate risk\\n\")\n",
        "elif result > 10 or result <= 20:\n",
        "  print(\"High risk\\n\")\n",
        "elif result > 20 or result <= 35:\n",
        "  print(\"Very high risk\\n\")\n",
        "elif result > 35:\n",
        "  print(\"Extreme risk\\n\") \n"
      ],
      "metadata": {
        "colab": {
          "base_uri": "https://localhost:8080/"
        },
        "id": "spUbS3OKsObb",
        "outputId": "0d1281c1-c502-407d-fc49-68eec01ed8d3"
      },
      "execution_count": 115,
      "outputs": [
        {
          "output_type": "stream",
          "name": "stdout",
          "text": [
            "Let's make a prediction\n",
            "\n",
            "For a wind gust of 3.0 m/s:\n",
            "Low risk\n",
            "\n"
          ]
        }
      ]
    }
  ]
}